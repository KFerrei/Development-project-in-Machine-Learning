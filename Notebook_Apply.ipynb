{
 "cells": [
  {
   "cell_type": "markdown",
   "id": "68f7b7a0",
   "metadata": {},
   "source": [
    "# TAF MCE - UE Machine Learning\n",
    "## Project - Apply the workflow onto the two datasets\n",
    "\n",
    "Authors: Kévin Ferreira, Emma Bonnem, Elias Tranchant\n",
    "Year: 2021-2022"
   ]
  },
  {
   "cell_type": "markdown",
   "id": "0ba09138",
   "metadata": {},
   "source": [
    "We start by importing our project functions."
   ]
  },
  {
   "cell_type": "code",
   "execution_count": 1,
   "id": "7423444b",
   "metadata": {},
   "outputs": [],
   "source": [
    "# Import project.py\n",
    "exec(open(\"./project.py\").read())"
   ]
  },
  {
   "cell_type": "markdown",
   "id": "8197523c",
   "metadata": {},
   "source": [
    "# 1. Test with data_banknote_authentication"
   ]
  },
  {
   "cell_type": "markdown",
   "id": "47d0169c",
   "metadata": {},
   "source": [
    "The *main* function returns valuable data on our model, trained by the input data."
   ]
  },
  {
   "cell_type": "code",
   "execution_count": 2,
   "id": "74e87b85",
   "metadata": {},
   "outputs": [],
   "source": [
    "result_bkn = main('data_banknote_authentication.txt', names_columns = [ \"Variance of Wavelet Transformed image\", \\\n",
    "                                                                    \"Skewness of Wavelet Transformed image\", \\\n",
    "                                                                    \"Curtosis of Wavelet Transformed image\", \\\n",
    "                                                                    \"Entropy of image\", \"classification\"])"
   ]
  },
  {
   "cell_type": "markdown",
   "id": "66f2753c",
   "metadata": {},
   "source": [
    "We use five different methods to generate our model.\n",
    "\n",
    "Those methods are compared below based on three metrics.\n",
    "\n",
    "**Model accuracy** : This value, ranging from 0 to 1, represents the accuracy of our model based on our training data set. The formula is :\n",
    "$$\n",
    "\\text{Model accuracy} = \\dfrac{\\text{Amount of correct predictions}}{\\text{Total amount of training data}}\n",
    "$$\n",
    "\n",
    "**Confusion matrix** : This matrix allows us to know the error rate of our prediction on the testing set. It represents the number of predicted and actual class for each value. With three classes $C1$, $C2$ and $C3$ we would have this :\n",
    "$$\n",
    "\\begin{matrix}\n",
    " & Predicted\\\\\n",
    "Actual &\n",
    "\\begin{matrix}\n",
    "& \\begin{matrix}C1 & C2 & C3 \\end{matrix}\\\\\n",
    "\\begin{matrix} C1 \\\\ C2 \\\\ C3 \\end{matrix} &\n",
    "\\begin{bmatrix}\n",
    "129 & 0  & 1  \\\\\n",
    "1   & 54 & 2  \\\\\n",
    "0   & 4  & 69 \\\\\n",
    "\\end{bmatrix}\n",
    "\\end{matrix}\n",
    "\\end{matrix}\n",
    "$$\n",
    "\n",
    "**Cross-validation score** : This score is computed by divising our training set into 3 parts, before training the model on one of them and testing it on the two others. Three score are outputed, for each of the 3 divided parts of the set."
   ]
  },
  {
   "cell_type": "code",
   "execution_count": 3,
   "id": "919586e6",
   "metadata": {},
   "outputs": [
    {
     "name": "stdout",
     "output_type": "stream",
     "text": [
      "Linear SVC\n",
      "Model accuracy : 0.9854227405247813\n",
      "Confusion matrix :\n",
      "[[384   2]\n",
      " [  2 298]]\n",
      "Cross val score : [0.98689956 0.98253275 0.99122807]\n",
      "\n",
      "Naive Bayes\n",
      "Model accuracy : 0.8425655976676385\n",
      "Confusion matrix :\n",
      "[[333  53]\n",
      " [ 71 229]]\n",
      "Cross val score : [0.88646288 0.81659389 0.82894737]\n",
      "\n",
      "SGD Classifier\n",
      "Model accuracy : 0.9752186588921283\n",
      "Confusion matrix :\n",
      "[[386   0]\n",
      " [ 23 277]]\n",
      "Cross val score : [0.98253275 0.97816594 0.96929825]\n",
      "\n",
      "KNeighbors Classifier\n",
      "Model accuracy : 1.0\n",
      "Confusion matrix :\n",
      "[[385   1]\n",
      " [  0 300]]\n",
      "Cross val score : [0.99126638 0.97816594 1.        ]\n",
      "\n",
      "Random Forest\n",
      "Model accuracy : 1.0\n",
      "Confusion matrix :\n",
      "[[381   5]\n",
      " [  6 294]]\n",
      "Cross val score : [0.99126638 0.96943231 0.98684211]\n",
      "\n"
     ]
    }
   ],
   "source": [
    "for key in result_bkn.keys() :\n",
    "        print(key)\n",
    "        print(f\"Model accuracy : {result_bkn[key][1]}\")\n",
    "        print(f\"Confusion matrix :\\n{result_bkn[key][2]}\")\n",
    "        print(f\"Cross val score : {result_bkn[key][3]}\")\n",
    "        print()"
   ]
  },
  {
   "cell_type": "markdown",
   "id": "6ef08840",
   "metadata": {},
   "source": [
    "# 2. Test with kidney_disease"
   ]
  },
  {
   "cell_type": "markdown",
   "id": "290af255",
   "metadata": {},
   "source": [
    "We can also do the test on the *kidney_disease.csv* dataset."
   ]
  },
  {
   "cell_type": "code",
   "execution_count": 4,
   "id": "ed8b1574",
   "metadata": {},
   "outputs": [],
   "source": [
    "result_kdn = main('kidney_disease.csv')"
   ]
  },
  {
   "cell_type": "markdown",
   "id": "6864112e",
   "metadata": {},
   "source": [
    "We use five different methods compared using three metrics."
   ]
  },
  {
   "cell_type": "code",
   "execution_count": 5,
   "id": "6e50d4de",
   "metadata": {},
   "outputs": [
    {
     "name": "stdout",
     "output_type": "stream",
     "text": [
      "Linear SVC\n",
      "Model accuracy : 1.0\n",
      "Confusion matrix :\n",
      "[[116  13]\n",
      " [  2  69]]\n",
      "Cross val score : [0.97014925 0.95522388 0.87878788]\n",
      "\n",
      "Naive Bayes\n",
      "Model accuracy : 0.95\n",
      "Confusion matrix :\n",
      "[[118  11]\n",
      " [  0  71]]\n",
      "Cross val score : [0.92537313 0.98507463 0.93939394]\n",
      "\n",
      "SGD Classifier\n",
      "Model accuracy : 0.99\n",
      "Confusion matrix :\n",
      "[[125   4]\n",
      " [  1  70]]\n",
      "Cross val score : [0.98507463 0.97014925 0.92424242]\n",
      "\n",
      "KNeighbors Classifier\n",
      "Model accuracy : 0.955\n",
      "Confusion matrix :\n",
      "[[110  19]\n",
      " [  1  70]]\n",
      "Cross val score : [0.94029851 0.86567164 0.86363636]\n",
      "\n",
      "Random Forest\n",
      "Model accuracy : 1.0\n",
      "Confusion matrix :\n",
      "[[128   1]\n",
      " [  1  70]]\n",
      "Cross val score : [0.98507463 0.97014925 0.92424242]\n",
      "\n"
     ]
    }
   ],
   "source": [
    "for key in result_kdn.keys() :\n",
    "        print(key)\n",
    "        print(f\"Model accuracy : {result_kdn[key][1]}\")\n",
    "        print(f\"Confusion matrix :\\n{result_kdn[key][2]}\")\n",
    "        print(f\"Cross val score : {result_kdn[key][3]}\")\n",
    "        print()"
   ]
  }
 ],
 "metadata": {
  "kernelspec": {
   "display_name": "Python 3.11.0 64-bit",
   "language": "python",
   "name": "python3"
  },
  "language_info": {
   "codemirror_mode": {
    "name": "ipython",
    "version": 3
   },
   "file_extension": ".py",
   "mimetype": "text/x-python",
   "name": "python",
   "nbconvert_exporter": "python",
   "pygments_lexer": "ipython3",
   "version": "3.11.0"
  },
  "vscode": {
   "interpreter": {
    "hash": "216cc881fd7a9b3a54c6fb15327bf24b1328bb827d7e2cbeca3a18bdaa1d156c"
   }
  }
 },
 "nbformat": 4,
 "nbformat_minor": 5
}
